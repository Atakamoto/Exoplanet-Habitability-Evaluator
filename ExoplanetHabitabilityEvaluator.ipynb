{
 "cells": [
  {
   "cell_type": "code",
   "execution_count": 1,
   "metadata": {},
   "outputs": [],
   "source": [
    "import pandas as pd\n",
    "import matplotlib.pyplot as plt\n",
    "import seaborn as sns"
   ]
  },
  {
   "cell_type": "markdown",
   "metadata": {},
   "source": [
    "## EDA\n",
    "Dataset from Planetary Habitability Laboratory (University of Puerto Rico)"
   ]
  },
  {
   "cell_type": "code",
   "execution_count": 2,
   "metadata": {},
   "outputs": [],
   "source": [
    "file_path = 'data/hwc.csv'\n",
    "df = pd.read_csv(file_path)"
   ]
  },
  {
   "cell_type": "code",
   "execution_count": 6,
   "metadata": {},
   "outputs": [
    {
     "data": {
      "text/html": [
       "<div>\n",
       "<style scoped>\n",
       "    .dataframe tbody tr th:only-of-type {\n",
       "        vertical-align: middle;\n",
       "    }\n",
       "\n",
       "    .dataframe tbody tr th {\n",
       "        vertical-align: top;\n",
       "    }\n",
       "\n",
       "    .dataframe thead th {\n",
       "        text-align: right;\n",
       "    }\n",
       "</style>\n",
       "<table border=\"1\" class=\"dataframe\">\n",
       "  <thead>\n",
       "    <tr style=\"text-align: right;\">\n",
       "      <th></th>\n",
       "      <th>P_NAME</th>\n",
       "      <th>P_DETECTION</th>\n",
       "      <th>P_DISCOVERY_FACILITY</th>\n",
       "      <th>P_YEAR</th>\n",
       "      <th>P_UPDATE</th>\n",
       "      <th>P_MASS</th>\n",
       "      <th>P_MASS_ERROR_MIN</th>\n",
       "      <th>P_MASS_ERROR_MAX</th>\n",
       "      <th>P_MASS_LIMIT</th>\n",
       "      <th>P_MASS_ORIGIN</th>\n",
       "      <th>...</th>\n",
       "      <th>S_ABIO_ZONE</th>\n",
       "      <th>S_TIDAL_LOCK</th>\n",
       "      <th>P_HABZONE_OPT</th>\n",
       "      <th>P_HABZONE_CON</th>\n",
       "      <th>P_TYPE_TEMP</th>\n",
       "      <th>P_HABITABLE</th>\n",
       "      <th>P_ESI</th>\n",
       "      <th>S_CONSTELLATION</th>\n",
       "      <th>S_CONSTELLATION_ABR</th>\n",
       "      <th>S_CONSTELLATION_ENG</th>\n",
       "    </tr>\n",
       "  </thead>\n",
       "  <tbody>\n",
       "    <tr>\n",
       "      <th>0</th>\n",
       "      <td>OGLE-2016-BLG-1227L b</td>\n",
       "      <td>Microlensing</td>\n",
       "      <td>OGLE</td>\n",
       "      <td>2020</td>\n",
       "      <td>2020-04-02</td>\n",
       "      <td>250.00</td>\n",
       "      <td>-120.0</td>\n",
       "      <td>413.0</td>\n",
       "      <td>0</td>\n",
       "      <td>Mass</td>\n",
       "      <td>...</td>\n",
       "      <td>NaN</td>\n",
       "      <td>0.214133</td>\n",
       "      <td>0</td>\n",
       "      <td>0</td>\n",
       "      <td>NaN</td>\n",
       "      <td>0</td>\n",
       "      <td>NaN</td>\n",
       "      <td>Scorpius</td>\n",
       "      <td>Sco</td>\n",
       "      <td>Scorpion</td>\n",
       "    </tr>\n",
       "    <tr>\n",
       "      <th>1</th>\n",
       "      <td>Kepler-276 c</td>\n",
       "      <td>Transit</td>\n",
       "      <td>Kepler</td>\n",
       "      <td>2013</td>\n",
       "      <td>2018-09-25</td>\n",
       "      <td>16.60</td>\n",
       "      <td>-3.6</td>\n",
       "      <td>4.4</td>\n",
       "      <td>0</td>\n",
       "      <td>Mass</td>\n",
       "      <td>...</td>\n",
       "      <td>2.097783</td>\n",
       "      <td>0.316980</td>\n",
       "      <td>0</td>\n",
       "      <td>0</td>\n",
       "      <td>Hot</td>\n",
       "      <td>0</td>\n",
       "      <td>0.272032</td>\n",
       "      <td>Cygnus</td>\n",
       "      <td>Cyg</td>\n",
       "      <td>Swan</td>\n",
       "    </tr>\n",
       "    <tr>\n",
       "      <th>2</th>\n",
       "      <td>Kepler-829 b</td>\n",
       "      <td>Transit</td>\n",
       "      <td>Kepler</td>\n",
       "      <td>2016</td>\n",
       "      <td>2019-04-16</td>\n",
       "      <td>5.10</td>\n",
       "      <td>NaN</td>\n",
       "      <td>NaN</td>\n",
       "      <td>0</td>\n",
       "      <td>M-R relationship</td>\n",
       "      <td>...</td>\n",
       "      <td>1.756317</td>\n",
       "      <td>0.459559</td>\n",
       "      <td>0</td>\n",
       "      <td>0</td>\n",
       "      <td>Hot</td>\n",
       "      <td>0</td>\n",
       "      <td>0.254763</td>\n",
       "      <td>Lyra</td>\n",
       "      <td>Lyr</td>\n",
       "      <td>Lyre</td>\n",
       "    </tr>\n",
       "    <tr>\n",
       "      <th>3</th>\n",
       "      <td>K2-283 b</td>\n",
       "      <td>Transit</td>\n",
       "      <td>K2</td>\n",
       "      <td>2018</td>\n",
       "      <td>2019-09-05</td>\n",
       "      <td>12.20</td>\n",
       "      <td>NaN</td>\n",
       "      <td>NaN</td>\n",
       "      <td>0</td>\n",
       "      <td>M-R relationship</td>\n",
       "      <td>...</td>\n",
       "      <td>0.568374</td>\n",
       "      <td>0.443760</td>\n",
       "      <td>0</td>\n",
       "      <td>0</td>\n",
       "      <td>Hot</td>\n",
       "      <td>0</td>\n",
       "      <td>0.193906</td>\n",
       "      <td>Pisces</td>\n",
       "      <td>Psc</td>\n",
       "      <td>Fishes</td>\n",
       "    </tr>\n",
       "    <tr>\n",
       "      <th>4</th>\n",
       "      <td>Kepler-477 b</td>\n",
       "      <td>Transit</td>\n",
       "      <td>Kepler</td>\n",
       "      <td>2016</td>\n",
       "      <td>2019-04-16</td>\n",
       "      <td>4.94</td>\n",
       "      <td>NaN</td>\n",
       "      <td>NaN</td>\n",
       "      <td>0</td>\n",
       "      <td>M-R relationship</td>\n",
       "      <td>...</td>\n",
       "      <td>0.768502</td>\n",
       "      <td>0.386150</td>\n",
       "      <td>0</td>\n",
       "      <td>0</td>\n",
       "      <td>Hot</td>\n",
       "      <td>0</td>\n",
       "      <td>0.276721</td>\n",
       "      <td>Lyra</td>\n",
       "      <td>Lyr</td>\n",
       "      <td>Lyre</td>\n",
       "    </tr>\n",
       "  </tbody>\n",
       "</table>\n",
       "<p>5 rows × 118 columns</p>\n",
       "</div>"
      ],
      "text/plain": [
       "                  P_NAME   P_DETECTION P_DISCOVERY_FACILITY  P_YEAR  \\\n",
       "0  OGLE-2016-BLG-1227L b  Microlensing                 OGLE    2020   \n",
       "1           Kepler-276 c       Transit               Kepler    2013   \n",
       "2           Kepler-829 b       Transit               Kepler    2016   \n",
       "3               K2-283 b       Transit                   K2    2018   \n",
       "4           Kepler-477 b       Transit               Kepler    2016   \n",
       "\n",
       "     P_UPDATE  P_MASS  P_MASS_ERROR_MIN  P_MASS_ERROR_MAX  P_MASS_LIMIT  \\\n",
       "0  2020-04-02  250.00            -120.0             413.0             0   \n",
       "1  2018-09-25   16.60              -3.6               4.4             0   \n",
       "2  2019-04-16    5.10               NaN               NaN             0   \n",
       "3  2019-09-05   12.20               NaN               NaN             0   \n",
       "4  2019-04-16    4.94               NaN               NaN             0   \n",
       "\n",
       "      P_MASS_ORIGIN  ...  S_ABIO_ZONE  S_TIDAL_LOCK  P_HABZONE_OPT  \\\n",
       "0              Mass  ...          NaN      0.214133              0   \n",
       "1              Mass  ...     2.097783      0.316980              0   \n",
       "2  M-R relationship  ...     1.756317      0.459559              0   \n",
       "3  M-R relationship  ...     0.568374      0.443760              0   \n",
       "4  M-R relationship  ...     0.768502      0.386150              0   \n",
       "\n",
       "   P_HABZONE_CON  P_TYPE_TEMP  P_HABITABLE     P_ESI  S_CONSTELLATION  \\\n",
       "0              0          NaN            0       NaN         Scorpius   \n",
       "1              0          Hot            0  0.272032           Cygnus   \n",
       "2              0          Hot            0  0.254763             Lyra   \n",
       "3              0          Hot            0  0.193906           Pisces   \n",
       "4              0          Hot            0  0.276721             Lyra   \n",
       "\n",
       "   S_CONSTELLATION_ABR  S_CONSTELLATION_ENG  \n",
       "0                  Sco             Scorpion  \n",
       "1                  Cyg                 Swan  \n",
       "2                  Lyr                 Lyre  \n",
       "3                  Psc               Fishes  \n",
       "4                  Lyr                 Lyre  \n",
       "\n",
       "[5 rows x 118 columns]"
      ]
     },
     "execution_count": 6,
     "metadata": {},
     "output_type": "execute_result"
    }
   ],
   "source": [
    "df.head()"
   ]
  },
  {
   "cell_type": "code",
   "execution_count": 7,
   "metadata": {},
   "outputs": [
    {
     "data": {
      "text/plain": [
       "Index(['P_NAME', 'P_DETECTION', 'P_DISCOVERY_FACILITY', 'P_YEAR', 'P_UPDATE',\n",
       "       'P_MASS', 'P_MASS_ERROR_MIN', 'P_MASS_ERROR_MAX', 'P_MASS_LIMIT',\n",
       "       'P_MASS_ORIGIN',\n",
       "       ...\n",
       "       'S_ABIO_ZONE', 'S_TIDAL_LOCK', 'P_HABZONE_OPT', 'P_HABZONE_CON',\n",
       "       'P_TYPE_TEMP', 'P_HABITABLE', 'P_ESI', 'S_CONSTELLATION',\n",
       "       'S_CONSTELLATION_ABR', 'S_CONSTELLATION_ENG'],\n",
       "      dtype='object', length=118)"
      ]
     },
     "execution_count": 7,
     "metadata": {},
     "output_type": "execute_result"
    }
   ],
   "source": [
    "df.columns"
   ]
  },
  {
   "cell_type": "code",
   "execution_count": 9,
   "metadata": {},
   "outputs": [
    {
     "data": {
      "text/plain": [
       "660682"
      ]
     },
     "execution_count": 9,
     "metadata": {},
     "output_type": "execute_result"
    }
   ],
   "source": [
    "df.size"
   ]
  },
  {
   "cell_type": "code",
   "execution_count": 12,
   "metadata": {},
   "outputs": [],
   "source": [
    "df_nona = df.dropna"
   ]
  },
  {
   "cell_type": "code",
   "execution_count": 13,
   "metadata": {},
   "outputs": [
    {
     "ename": "TypeError",
     "evalue": "'method' object is not subscriptable",
     "output_type": "error",
     "traceback": [
      "\u001b[0;31m---------------------------------------------------------------------------\u001b[0m",
      "\u001b[0;31mTypeError\u001b[0m                                 Traceback (most recent call last)",
      "Cell \u001b[0;32mIn[13], line 2\u001b[0m\n\u001b[1;32m      1\u001b[0m plt\u001b[38;5;241m.\u001b[39mfigure(figsize\u001b[38;5;241m=\u001b[39m(\u001b[38;5;241m10\u001b[39m, \u001b[38;5;241m6\u001b[39m))\n\u001b[0;32m----> 2\u001b[0m sns\u001b[38;5;241m.\u001b[39mhistplot(\u001b[43mdf_nona\u001b[49m\u001b[43m[\u001b[49m\u001b[38;5;124;43m'\u001b[39;49m\u001b[38;5;124;43mesi\u001b[39;49m\u001b[38;5;124;43m'\u001b[39;49m\u001b[43m]\u001b[49m, kde\u001b[38;5;241m=\u001b[39m\u001b[38;5;28;01mTrue\u001b[39;00m)\n\u001b[1;32m      3\u001b[0m plt\u001b[38;5;241m.\u001b[39mtitle(\u001b[38;5;124m'\u001b[39m\u001b[38;5;124mDistribution of Earth Similarity Index (ESI)\u001b[39m\u001b[38;5;124m'\u001b[39m)\n\u001b[1;32m      4\u001b[0m plt\u001b[38;5;241m.\u001b[39mxlabel(\u001b[38;5;124m'\u001b[39m\u001b[38;5;124mESI\u001b[39m\u001b[38;5;124m'\u001b[39m)\n",
      "\u001b[0;31mTypeError\u001b[0m: 'method' object is not subscriptable"
     ]
    },
    {
     "data": {
      "text/plain": [
       "<Figure size 1000x600 with 0 Axes>"
      ]
     },
     "metadata": {},
     "output_type": "display_data"
    }
   ],
   "source": [
    "plt.figure(figsize=(10, 6))\n",
    "sns.histplot(df_nona['esi'], kde=True)\n",
    "plt.title('Distribution of Earth Similarity Index (ESI)')\n",
    "plt.xlabel('ESI')\n",
    "plt.ylabel('Frequency')\n",
    "plt.show()"
   ]
  }
 ],
 "metadata": {
  "kernelspec": {
   "display_name": "Python 3",
   "language": "python",
   "name": "python3"
  },
  "language_info": {
   "codemirror_mode": {
    "name": "ipython",
    "version": 3
   },
   "file_extension": ".py",
   "mimetype": "text/x-python",
   "name": "python",
   "nbconvert_exporter": "python",
   "pygments_lexer": "ipython3",
   "version": "3.12.0"
  }
 },
 "nbformat": 4,
 "nbformat_minor": 2
}
